{
 "cells": [
  {
   "cell_type": "code",
   "execution_count": 44,
   "id": "abd99512",
   "metadata": {},
   "outputs": [
    {
     "name": "stdout",
     "output_type": "stream",
     "text": [
      "Class labels: [0 1 2 3 4 5 6 7 8 9]\n"
     ]
    }
   ],
   "source": [
    "from sklearn.datasets import load_digits\n",
    "from sklearn.tree import DecisionTreeClassifier\n",
    "from sklearn.model_selection import train_test_split\n",
    "from sklearn.metrics import classification_report, accuracy_score\n",
    "from sklearn.preprocessing import StandardScaler\n",
    "\n",
    "# Cargar el dataset de dígitos\n",
    "digits = load_digits()\n",
    "X = digits.data\n",
    "y = digits.target\n",
    "\n",
    "print('Class labels:', digits.target_names)\n"
   ]
  },
  {
   "cell_type": "code",
   "execution_count": 35,
   "id": "3af19e03",
   "metadata": {},
   "outputs": [],
   "source": [
    " # 70% de los datos para entrenamiento y 30% para prueba\n",
    " X_train, X_test, Y_train, Y_test = train_test_split(X, y,  \n",
    " test_size = 0.3, \n",
    " random_state = 42, \n",
    " stratify = y)"
   ]
  },
  {
   "cell_type": "code",
   "execution_count": 37,
   "id": "474ae12b",
   "metadata": {},
   "outputs": [],
   "source": [
    "# Estandarización de los datos\n",
    "sc = StandardScaler()\n",
    "sc.fit(X_train)\n",
    "\n",
    "X_train_std = sc.transform(X_train)\n",
    "X_test_std = sc.transform(X_test)"
   ]
  },
  {
   "cell_type": "code",
   "execution_count": 51,
   "id": "8fe5c514",
   "metadata": {},
   "outputs": [
    {
     "name": "stdout",
     "output_type": "stream",
     "text": [
      "Predicción de data correcta: 0.97693\n",
      "Predicción de prueba correcta: 0.81852\n"
     ]
    }
   ],
   "source": [
    "# configuración del árbol de decisión\n",
    "arbol = DecisionTreeClassifier(criterion='entropy',\n",
    " max_depth=8, random_state=1)\n",
    "\n",
    "# ajustar el modelo\n",
    "arbol.fit(X_train_std, Y_train)\n",
    "\n",
    "# predicción global de clasificación correcta\n",
    "arbol_data = arbol.score(X_train_std, Y_train)\n",
    "print('Predicción de data correcta: %.5f' % arbol.score(X_train_std, Y_train))\n",
    "# predicción de clasificación correcta en el conjunto de prueba\n",
    "print('Predicción de prueba correcta: %.5f' % arbol.score(X_test_std, Y_test))"
   ]
  },
  {
   "cell_type": "code",
   "execution_count": 52,
   "id": "3a10e164",
   "metadata": {},
   "outputs": [
    {
     "name": "stdout",
     "output_type": "stream",
     "text": [
      "Exactitud (accuracy) del modelo: 81.85%\n",
      "\n",
      "informe de clasificación\n",
      "              precision    recall  f1-score   support\n",
      "\n",
      "           0       1.00      0.89      0.94        54\n",
      "           1       0.73      0.65      0.69        55\n",
      "           2       0.94      0.83      0.88        53\n",
      "           3       0.79      0.87      0.83        55\n",
      "           4       0.87      0.87      0.87        54\n",
      "           5       0.87      0.85      0.86        55\n",
      "           6       0.86      0.94      0.90        54\n",
      "           7       0.78      0.87      0.82        54\n",
      "           8       0.65      0.71      0.68        52\n",
      "           9       0.73      0.69      0.70        54\n",
      "\n",
      "    accuracy                           0.82       540\n",
      "   macro avg       0.82      0.82      0.82       540\n",
      "weighted avg       0.82      0.82      0.82       540\n",
      "\n"
     ]
    }
   ],
   "source": [
    "# predicción de clasificación\n",
    "Y_pred = arbol.predict(X_test_std)\n",
    "# evaluación del modelo\n",
    "accuracy = accuracy_score(Y_test, Y_pred)\n",
    "print(f\"Exactitud (accuracy) del modelo: {accuracy * 100:.2f}%\")\n",
    "print('\\ninforme de clasificación')\n",
    "print(classification_report(Y_test, Y_pred))"
   ]
  }
 ],
 "metadata": {
  "kernelspec": {
   "display_name": "Python 3",
   "language": "python",
   "name": "python3"
  },
  "language_info": {
   "codemirror_mode": {
    "name": "ipython",
    "version": 3
   },
   "file_extension": ".py",
   "mimetype": "text/x-python",
   "name": "python",
   "nbconvert_exporter": "python",
   "pygments_lexer": "ipython3",
   "version": "3.13.2"
  }
 },
 "nbformat": 4,
 "nbformat_minor": 5
}
